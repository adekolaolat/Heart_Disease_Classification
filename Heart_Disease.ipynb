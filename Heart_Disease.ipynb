{
  "cells": [
    {
      "cell_type": "code",
      "execution_count": 15,
      "metadata": {
        "id": "dMGNVkRgZQO-"
      },
      "outputs": [],
      "source": [
        "# import libraries for analysis\n",
        "import pandas as pd\n",
        "import numpy as np\n",
        "import seaborn as sns; sns.set()\n",
        "import os\n",
        "import matplotlib.pyplot as plt\n",
        "from sklearn.model_selection import train_test_split\n",
        "from sklearn.metrics import  accuracy_score\n",
        "from sklearn.preprocessing import MinMaxScaler\n",
        "import xgboost as xgb\n",
        "from xgboost import XGBClassifier\n",
        "import pickle\n"
      ]
    },
    {
      "cell_type": "code",
      "execution_count": 2,
      "metadata": {
        "id": "3lDUCglNaJmL"
      },
      "outputs": [],
      "source": [
        "from IPython.core.interactiveshell import Path\n",
        "\n",
        "# Load dataset\n",
        "curr_path = os.getcwd()\n",
        "path = os.path.join(curr_path,'heart.csv')\n",
        "\n",
        "df = pd.read_csv(path)\n"
      ]
    },
    {
      "cell_type": "code",
      "execution_count": 3,
      "metadata": {
        "colab": {
          "base_uri": "https://localhost:8080/"
        },
        "id": "P6Lyqnt-XRtW",
        "outputId": "f3b7633a-19ef-4545-8fb9-1f622eb66800"
      },
      "outputs": [
        {
          "name": "stdout",
          "output_type": "stream",
          "text": [
            "Number of Heart Disease: 0 sample is 499\n",
            "Number of Heart Disease: 1 sample is 526\n",
            "\n",
            "\n",
            "Statistical description for class 0\n",
            "              age         sex          cp    trestbps        chol         fbs  \\\n",
            "count  499.000000  499.000000  499.000000  499.000000  499.000000  499.000000   \n",
            "mean    56.569138    0.827655    0.482966  134.106212  251.292585    0.164329   \n",
            "std      7.908153    0.378059    0.908024   18.576736   49.558924    0.370945   \n",
            "min     35.000000    0.000000    0.000000  100.000000  131.000000    0.000000   \n",
            "25%     52.000000    1.000000    0.000000  120.000000  217.000000    0.000000   \n",
            "50%     58.000000    1.000000    0.000000  130.000000  249.000000    0.000000   \n",
            "75%     62.000000    1.000000    0.000000  144.000000  284.000000    0.000000   \n",
            "max     77.000000    1.000000    3.000000  200.000000  409.000000    1.000000   \n",
            "\n",
            "          restecg     thalach       exang     oldpeak       slope          ca  \\\n",
            "count  499.000000  499.000000  499.000000  499.000000  499.000000  499.000000   \n",
            "mean     0.456914  139.130261    0.549098    1.600200    1.166333    1.158317   \n",
            "std      0.544825   22.565235    0.498083    1.290956    0.568932    1.032108   \n",
            "min      0.000000   71.000000    0.000000    0.000000    0.000000    0.000000   \n",
            "25%      0.000000  125.000000    0.000000    0.600000    1.000000    0.000000   \n",
            "50%      0.000000  142.000000    1.000000    1.400000    1.000000    1.000000   \n",
            "75%      1.000000  156.000000    1.000000    2.500000    2.000000    2.000000   \n",
            "max      2.000000  195.000000    1.000000    6.200000    2.000000    4.000000   \n",
            "\n",
            "             thal  target  \n",
            "count  499.000000   499.0  \n",
            "mean     2.539078     0.0  \n",
            "std      0.685460     0.0  \n",
            "min      0.000000     0.0  \n",
            "25%      2.000000     0.0  \n",
            "50%      3.000000     0.0  \n",
            "75%      3.000000     0.0  \n",
            "max      3.000000     0.0  \n",
            "\n",
            "\n",
            "Statistical description for class 1\n",
            "              age         sex          cp    trestbps        chol         fbs  \\\n",
            "count  526.000000  526.000000  526.000000  526.000000  526.000000  526.000000   \n",
            "mean    52.408745    0.570342    1.378327  129.245247  240.979087    0.134981   \n",
            "std      9.631804    0.495498    0.945881   16.112188   53.010345    0.342029   \n",
            "min     29.000000    0.000000    0.000000   94.000000  126.000000    0.000000   \n",
            "25%     44.000000    0.000000    1.000000  120.000000  208.000000    0.000000   \n",
            "50%     52.000000    1.000000    2.000000  130.000000  234.000000    0.000000   \n",
            "75%     59.000000    1.000000    2.000000  140.000000  265.750000    0.000000   \n",
            "max     76.000000    1.000000    3.000000  180.000000  564.000000    1.000000   \n",
            "\n",
            "          restecg     thalach       exang     oldpeak       slope          ca  \\\n",
            "count  526.000000  526.000000  526.000000  526.000000  526.000000  526.000000   \n",
            "mean     0.598859  158.585551    0.134981    0.569962    1.593156    0.370722   \n",
            "std      0.502109   19.096928    0.342029    0.771079    0.590295    0.871462   \n",
            "min      0.000000   96.000000    0.000000    0.000000    0.000000    0.000000   \n",
            "25%      0.000000  149.000000    0.000000    0.000000    1.000000    0.000000   \n",
            "50%      1.000000  161.500000    0.000000    0.200000    2.000000    0.000000   \n",
            "75%      1.000000  172.000000    0.000000    1.000000    2.000000    0.000000   \n",
            "max      2.000000  202.000000    1.000000    4.200000    2.000000    4.000000   \n",
            "\n",
            "             thal  target  \n",
            "count  526.000000   526.0  \n",
            "mean     2.119772     1.0  \n",
            "std      0.468949     0.0  \n",
            "min      0.000000     1.0  \n",
            "25%      2.000000     1.0  \n",
            "50%      2.000000     1.0  \n",
            "75%      2.000000     1.0  \n",
            "max      3.000000     1.0  \n",
            "\n",
            "\n"
          ]
        }
      ],
      "source": [
        "# Print out data infromation\n",
        "\n",
        "# group data samples by class\n",
        "dfg = df.groupby(\"target\")\n",
        "class_count = dfg.size()\n",
        "\n",
        "#Print number of samples for each class\n",
        "for cls, count in class_count.items():\n",
        "  print(\"Number of Heart Disease: {} sample is {}\".format(cls,count))\n",
        "print(\"\\n\")\n",
        "\n",
        "# Print statistical description of each class\n",
        "for cls, features in dfg:\n",
        "  print(\"Statistical description for class\", cls)\n",
        "  print(features.describe())\n",
        "  print(\"\\n\")\n"
      ]
    },
    {
      "cell_type": "code",
      "execution_count": null,
      "metadata": {
        "id": "JEuOaY1_jqg_"
      },
      "outputs": [],
      "source": [
        "# plot histogram  and kde for each feature in the dataset\n",
        "for features in df.columns:\n",
        "  plt.figure()\n",
        "  plt.ylabel(\"Feature values\")\n",
        "  sns.histplot(df[features], kde= True, color ='green')"
      ]
    },
    {
      "cell_type": "code",
      "execution_count": 5,
      "metadata": {
        "colab": {
          "base_uri": "https://localhost:8080/"
        },
        "id": "Nv6yXYldWgUX",
        "outputId": "d771705f-a991-4291-fd5c-dd50de7df4cb"
      },
      "outputs": [
        {
          "name": "stdout",
          "output_type": "stream",
          "text": [
            "age         0\n",
            "sex         0\n",
            "cp          0\n",
            "trestbps    0\n",
            "chol        0\n",
            "fbs         0\n",
            "restecg     0\n",
            "thalach     0\n",
            "exang       0\n",
            "oldpeak     0\n",
            "slope       0\n",
            "ca          0\n",
            "thal        0\n",
            "target      0\n",
            "dtype: int64\n"
          ]
        }
      ],
      "source": [
        "# Check if there are any missing values!\n",
        "missing_values = df.isnull().sum()\n",
        "print(missing_values)"
      ]
    },
    {
      "cell_type": "code",
      "execution_count": 6,
      "metadata": {
        "id": "jKyWzvbArPTD"
      },
      "outputs": [],
      "source": [
        "# Separate features and class labels\n",
        "X_data_ = df.drop('target', axis=1)\n",
        "scaler = MinMaxScaler()\n",
        "X_data = scaler.fit_transform(X_data_)\n",
        "y_data = df['target']"
      ]
    },
    {
      "cell_type": "code",
      "execution_count": 8,
      "metadata": {
        "id": "GVQK2N1LnnZ-"
      },
      "outputs": [],
      "source": [
        "# Splitting into train (80%) and test dataset(20%)\n",
        "X_train,X_test,y_train,y_test = train_test_split(X_data, y_data, test_size=0.20, shuffle=True,random_state=42)"
      ]
    },
    {
      "cell_type": "code",
      "execution_count": 13,
      "metadata": {
        "colab": {
          "base_uri": "https://localhost:8080/",
          "height": 248
        },
        "id": "9rchQp3adYMG",
        "outputId": "47eb8d30-f4c5-4170-a809-945115c59a73"
      },
      "outputs": [
        {
          "data": {
            "text/html": [
              "<style>#sk-container-id-2 {color: black;background-color: white;}#sk-container-id-2 pre{padding: 0;}#sk-container-id-2 div.sk-toggleable {background-color: white;}#sk-container-id-2 label.sk-toggleable__label {cursor: pointer;display: block;width: 100%;margin-bottom: 0;padding: 0.3em;box-sizing: border-box;text-align: center;}#sk-container-id-2 label.sk-toggleable__label-arrow:before {content: \"▸\";float: left;margin-right: 0.25em;color: #696969;}#sk-container-id-2 label.sk-toggleable__label-arrow:hover:before {color: black;}#sk-container-id-2 div.sk-estimator:hover label.sk-toggleable__label-arrow:before {color: black;}#sk-container-id-2 div.sk-toggleable__content {max-height: 0;max-width: 0;overflow: hidden;text-align: left;background-color: #f0f8ff;}#sk-container-id-2 div.sk-toggleable__content pre {margin: 0.2em;color: black;border-radius: 0.25em;background-color: #f0f8ff;}#sk-container-id-2 input.sk-toggleable__control:checked~div.sk-toggleable__content {max-height: 200px;max-width: 100%;overflow: auto;}#sk-container-id-2 input.sk-toggleable__control:checked~label.sk-toggleable__label-arrow:before {content: \"▾\";}#sk-container-id-2 div.sk-estimator input.sk-toggleable__control:checked~label.sk-toggleable__label {background-color: #d4ebff;}#sk-container-id-2 div.sk-label input.sk-toggleable__control:checked~label.sk-toggleable__label {background-color: #d4ebff;}#sk-container-id-2 input.sk-hidden--visually {border: 0;clip: rect(1px 1px 1px 1px);clip: rect(1px, 1px, 1px, 1px);height: 1px;margin: -1px;overflow: hidden;padding: 0;position: absolute;width: 1px;}#sk-container-id-2 div.sk-estimator {font-family: monospace;background-color: #f0f8ff;border: 1px dotted black;border-radius: 0.25em;box-sizing: border-box;margin-bottom: 0.5em;}#sk-container-id-2 div.sk-estimator:hover {background-color: #d4ebff;}#sk-container-id-2 div.sk-parallel-item::after {content: \"\";width: 100%;border-bottom: 1px solid gray;flex-grow: 1;}#sk-container-id-2 div.sk-label:hover label.sk-toggleable__label {background-color: #d4ebff;}#sk-container-id-2 div.sk-serial::before {content: \"\";position: absolute;border-left: 1px solid gray;box-sizing: border-box;top: 0;bottom: 0;left: 50%;z-index: 0;}#sk-container-id-2 div.sk-serial {display: flex;flex-direction: column;align-items: center;background-color: white;padding-right: 0.2em;padding-left: 0.2em;position: relative;}#sk-container-id-2 div.sk-item {position: relative;z-index: 1;}#sk-container-id-2 div.sk-parallel {display: flex;align-items: stretch;justify-content: center;background-color: white;position: relative;}#sk-container-id-2 div.sk-item::before, #sk-container-id-2 div.sk-parallel-item::before {content: \"\";position: absolute;border-left: 1px solid gray;box-sizing: border-box;top: 0;bottom: 0;left: 50%;z-index: -1;}#sk-container-id-2 div.sk-parallel-item {display: flex;flex-direction: column;z-index: 1;position: relative;background-color: white;}#sk-container-id-2 div.sk-parallel-item:first-child::after {align-self: flex-end;width: 50%;}#sk-container-id-2 div.sk-parallel-item:last-child::after {align-self: flex-start;width: 50%;}#sk-container-id-2 div.sk-parallel-item:only-child::after {width: 0;}#sk-container-id-2 div.sk-dashed-wrapped {border: 1px dashed gray;margin: 0 0.4em 0.5em 0.4em;box-sizing: border-box;padding-bottom: 0.4em;background-color: white;}#sk-container-id-2 div.sk-label label {font-family: monospace;font-weight: bold;display: inline-block;line-height: 1.2em;}#sk-container-id-2 div.sk-label-container {text-align: center;}#sk-container-id-2 div.sk-container {/* jupyter's `normalize.less` sets `[hidden] { display: none; }` but bootstrap.min.css set `[hidden] { display: none !important; }` so we also need the `!important` here to be able to override the default hidden behavior on the sphinx rendered scikit-learn.org. See: https://github.com/scikit-learn/scikit-learn/issues/21755 */display: inline-block !important;position: relative;}#sk-container-id-2 div.sk-text-repr-fallback {display: none;}</style><div id=\"sk-container-id-2\" class=\"sk-top-container\"><div class=\"sk-text-repr-fallback\"><pre>XGBClassifier(base_score=None, booster=None, callbacks=None,\n",
              "              colsample_bylevel=None, colsample_bynode=None,\n",
              "              colsample_bytree=0.8, early_stopping_rounds=None,\n",
              "              enable_categorical=False, eval_metric=None, feature_types=None,\n",
              "              gamma=None, gpu_id=None, grow_policy=None, importance_type=None,\n",
              "              interaction_constraints=None, learning_rate=0.1, max_bin=None,\n",
              "              max_cat_threshold=None, max_cat_to_onehot=None,\n",
              "              max_delta_step=None, max_depth=3, max_leaves=None,\n",
              "              min_child_weight=None, missing=nan, monotone_constraints=None,\n",
              "              n_estimators=100, n_jobs=None, num_parallel_tree=None,\n",
              "              predictor=None, random_state=42, ...)</pre><b>In a Jupyter environment, please rerun this cell to show the HTML representation or trust the notebook. <br />On GitHub, the HTML representation is unable to render, please try loading this page with nbviewer.org.</b></div><div class=\"sk-container\" hidden><div class=\"sk-item\"><div class=\"sk-estimator sk-toggleable\"><input class=\"sk-toggleable__control sk-hidden--visually\" id=\"sk-estimator-id-2\" type=\"checkbox\" checked><label for=\"sk-estimator-id-2\" class=\"sk-toggleable__label sk-toggleable__label-arrow\">XGBClassifier</label><div class=\"sk-toggleable__content\"><pre>XGBClassifier(base_score=None, booster=None, callbacks=None,\n",
              "              colsample_bylevel=None, colsample_bynode=None,\n",
              "              colsample_bytree=0.8, early_stopping_rounds=None,\n",
              "              enable_categorical=False, eval_metric=None, feature_types=None,\n",
              "              gamma=None, gpu_id=None, grow_policy=None, importance_type=None,\n",
              "              interaction_constraints=None, learning_rate=0.1, max_bin=None,\n",
              "              max_cat_threshold=None, max_cat_to_onehot=None,\n",
              "              max_delta_step=None, max_depth=3, max_leaves=None,\n",
              "              min_child_weight=None, missing=nan, monotone_constraints=None,\n",
              "              n_estimators=100, n_jobs=None, num_parallel_tree=None,\n",
              "              predictor=None, random_state=42, ...)</pre></div></div></div></div></div>"
            ],
            "text/plain": [
              "XGBClassifier(base_score=None, booster=None, callbacks=None,\n",
              "              colsample_bylevel=None, colsample_bynode=None,\n",
              "              colsample_bytree=0.8, early_stopping_rounds=None,\n",
              "              enable_categorical=False, eval_metric=None, feature_types=None,\n",
              "              gamma=None, gpu_id=None, grow_policy=None, importance_type=None,\n",
              "              interaction_constraints=None, learning_rate=0.1, max_bin=None,\n",
              "              max_cat_threshold=None, max_cat_to_onehot=None,\n",
              "              max_delta_step=None, max_depth=3, max_leaves=None,\n",
              "              min_child_weight=None, missing=nan, monotone_constraints=None,\n",
              "              n_estimators=100, n_jobs=None, num_parallel_tree=None,\n",
              "              predictor=None, random_state=42, ...)"
            ]
          },
          "execution_count": 13,
          "metadata": {},
          "output_type": "execute_result"
        }
      ],
      "source": [
        "model = XGBClassifier(\n",
        "    n_estimators=100,        # Number of boosting rounds (trees)\n",
        "    max_depth=3,             # Maximum tree depth\n",
        "    learning_rate=0.1,       # Learning rate (step size shrinkage)\n",
        "    subsample=0.8,           # Subsample ratio of the training instances\n",
        "    colsample_bytree=0.8,    # Subsample ratio of features when constructing trees\n",
        "    random_state=42\n",
        ")\n",
        "\n",
        "model.fit(X_train, y_train)\n",
        "\n",
        "\n"
      ]
    },
    {
      "cell_type": "code",
      "execution_count": 14,
      "metadata": {
        "id": "XgMXLtE3CjDe"
      },
      "outputs": [],
      "source": [
        "# Save model\n",
        "with open('model.pkl', 'wb') as file:\n",
        "    pickle.dump(model, file)"
      ]
    },
    {
      "cell_type": "code",
      "execution_count": 10,
      "metadata": {
        "id": "EMQcjoZ9gAg8"
      },
      "outputs": [],
      "source": [
        "# I saved the model here and intend to evaluate on via the Tableau dashboard. Just for the fun with TadPy!"
      ]
    }
  ],
  "metadata": {
    "accelerator": "GPU",
    "colab": {
      "gpuType": "T4",
      "provenance": []
    },
    "kernelspec": {
      "display_name": "Python 3",
      "name": "python3"
    },
    "language_info": {
      "name": "python"
    }
  },
  "nbformat": 4,
  "nbformat_minor": 0
}
